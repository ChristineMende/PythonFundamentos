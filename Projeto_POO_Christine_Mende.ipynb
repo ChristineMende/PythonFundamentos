{
 "cells": [
  {
   "cell_type": "code",
   "execution_count": null,
   "id": "f366676e",
   "metadata": {},
   "outputs": [],
   "source": [
    "#projeto Sistema de Empréstimo de Bicicletas\n",
    "#por Christine Mende\n",
    "#15/02/2022"
   ]
  },
  {
   "cell_type": "code",
   "execution_count": 153,
   "id": "a71cd8d1",
   "metadata": {},
   "outputs": [],
   "source": [
    "from datetime import datetime, timedelta\n",
    "import math\n",
    "\n",
    "class Loja():\n",
    "    \n",
    "    aluguel_hora = 5         #os valores das modalidades de aluguel ficam como variáveis, para poder modificar se desejar\n",
    "    aluguel_dia = 25\n",
    "    aluguel_semana = 100\n",
    "    \n",
    "    #Método construtor da classe Loja\n",
    "    def __init__ (self, nome_loja, inventario):  #O inventario da loja é um atributo\n",
    "        self.nome_loja = nome_loja\n",
    "        self.inventario = inventario\n",
    "            \n",
    "    # Getters/setters do nome da loja\n",
    "    def __get_nome_loja(self):\n",
    "        return self.__nome_loja\n",
    "    def __set_nome_loja(self, nome_loja):\n",
    "        self.__nome_loja = nome_loja\n",
    "    nome_loja = property(__get_nome_loja, __set_nome_loja)\n",
    "    \n",
    "    # Getters/setters do nome do inventario da loja\n",
    "    def __get_inventario(self):\n",
    "        return self.__inventario\n",
    "    \n",
    "    def __set_inventario(self, inventario):\n",
    "        if type(inventario) != int:\n",
    "            print(\"Inventario debe ser um número inteiro.\")\n",
    "        elif inventario < 0:\n",
    "            print(\"Inventario não pode ser negativo.\")\n",
    "        else:\n",
    "            self.__inventario = inventario\n",
    "            print(\"Inventario atualizado!\\n\")\n",
    "            \n",
    "    inventario = property(__get_inventario, __set_inventario)\n",
    "    \n",
    "        \n",
    "    def alugar(self, Cliente):\n",
    "        \n",
    "        #chamaremos esta função toda vez que um cliente quiser alugar uma ou varias bicicletas da loja\n",
    "        #a quantidade de bicicletas que o cliente deseja alugar estão definidas na variável quantidade_bikes\n",
    "        \n",
    "        desconto = 0        #a variável desconto irá nos indicar se devemos aplicar um desconto na hora de fazer a conta\n",
    "        \n",
    "        print(\"Seja bem-vindo ao sistema de aluguel de bicicletas!\\n\\n\")\n",
    "              \n",
    "        if Cliente.quantidade_bikes >= 3:\n",
    "            desconto = 0.3 \n",
    "        \n",
    "        if self.inventario >= Cliente.quantidade_bikes:\n",
    "            self.inventario -= Cliente.quantidade_bikes\n",
    "            \n",
    "            periodo = input(\"Você deseja alugar por hora (H), por dia (D), ou por semana(S)? \") \n",
    "            if periodo == 'S' or periodo =='s':\n",
    "                quant_periodo = float(input(\"Por quantas semanas você irá alugar a bicicleta? \"))\n",
    "                valor_pedido = self.aluguel_semana*quant_periodo*(1-desconto)*Cliente.quantidade_bikes\n",
    "            elif periodo == 'D' or periodo =='d':\n",
    "                quant_periodo = float(input(\"Por quantos dias você irá alugar a bicicleta? \"))\n",
    "                valor_pedido = self.aluguel_dia*quant_periodo*(1-desconto)*Cliente.quantidade_bikes\n",
    "            elif periodo == 'H' or periodo =='h':\n",
    "                quant_periodo = float(input(\"Por quantas horas você irá alugar a bicicleta? \"))\n",
    "                valor_pedido = self.aluguel_hora*quant_periodo*(1-desconto)*Cliente.quantidade_bikes\n",
    "            else:\n",
    "                print(\"Você digitou uma opção de periodo que não é válida.\")\n",
    "\n",
    "            print(f\"Para o periodo de {quant_periodo} {periodo} o custo do aluguel será de R$ {valor_pedido}.\\n\")\n",
    "            Cliente.horario_aluguel = format(datetime.now())\n",
    "            #Cliente.horario_aluguel = format(datetime(2022, 2, 1, 15, 13, 0)) para fazer os test's\n",
    "            print(f\"O aluguel inicia neste horário: {Cliente.horario_aluguel}.\\n\")\n",
    "        else:\n",
    "            print(\"Não temos esse número de bicicletas para alugar.\")\n",
    "            Cliente.quantidade_bikes = 0\n",
    "\n",
    "\n",
    "    def devolver(self, Cliente):\n",
    "        # Atualizo o inventário com as bicicletas que o cliente devolveu\n",
    "        # Só se faz a devolução quando ele trouxer todas as bicicletas, isso significa, que o processo não considera devoluções parciais\n",
    "        if Cliente.quantidade_bikes > 0:\n",
    "            self.inventario += Cliente.quantidade_bikes  \n",
    "            Cliente.horario_devolucao = datetime.now()\n",
    "\n",
    "            Cliente.periodo_alugado = Cliente.horario_devolucao - datetime.fromisoformat(Cliente.horario_aluguel)\n",
    "            \n",
    "            horas_alugadas = math.ceil(Cliente.periodo_alugado/timedelta(hours=1))\n",
    "            dias_alugados = math.ceil(Cliente.periodo_alugado/timedelta(days=1))\n",
    "            semanas_alugadas = math.ceil(Cliente.periodo_alugado/timedelta(days=7))\n",
    "            desconto = 0\n",
    "            if Cliente.quantidade_bikes >= 3:\n",
    "                desconto = 0.3 \n",
    "            \n",
    "            if horas_alugadas < 24:\n",
    "                conta = horas_alugadas*self.aluguel_hora*Cliente.quantidade_bikes*(1-desconto)\n",
    "                print(f\"Horas de aluguel: {horas_alugadas} horas.\\nO total da sua conta é R$ {conta}.\")\n",
    "            elif dias_alugados >= 1 and dias_alugados < 7:\n",
    "                conta = dias_alugados*self.aluguel_dia*Cliente.quantidade_bikes*(1-desconto)\n",
    "                print(f\"Dias de aluguel: {dias_alugados} dias.\\nO total da sua conta é R$ {conta}.\")\n",
    "            else:\n",
    "                conta = semanas_alugadas*self.aluguel_semana*Cliente.quantidade_bikes*(1-desconto)\n",
    "                print(f\"Semanas de aluguel: {semanas_alugadas} semanas.\\nO total da sua conta é R$ {conta}.\")\n",
    "\n",
    "            Cliente.quantidade_bikes = 0    #Contador apagado, para garantir que o cliente não pode devolver as bicicletas já devolvidas\n",
    "            \n",
    "            return print(f\"Bicicleta(s) devolvida(s) com sucesso.\\nA quantidade de bicicletas na loja '{self.nome_loja}' é de {self.inventario}.\\n\")\n",
    "        else:\n",
    "            print(\"Cliente não tem bicicletas para devolver.\")\n",
    "            \n",
    "    def mostrarStock(self):\n",
    "        return print(f\"O stock atual da loja '{self.nome_loja}' é de {self.inventario} bicicletas.\")"
   ]
  },
  {
   "cell_type": "code",
   "execution_count": 167,
   "id": "e3d47aed",
   "metadata": {},
   "outputs": [],
   "source": [
    "class Cliente():\n",
    "    \n",
    "    #Método construtor da classe Cliente\n",
    "    def __init__ (self, nome, cpf, quantidade_bikes, horario_aluguel = 0, horario_devolucao = 0, periodo_alugado = 0):\n",
    "        self.nome = nome\n",
    "        self.cpf = cpf\n",
    "        self.quantidade_bikes = quantidade_bikes\n",
    "        self.horario_aluguel = horario_aluguel\n",
    "        self.horario_devolucao = horario_devolucao\n",
    "        self.periodo_alugado = periodo_alugado\n",
    "        print(\"Cliente instanciado com sucesso!\")\n",
    "        \n",
    "    # Getters/setters do nome do cliente\n",
    "    def __get_nome(self):\n",
    "        return self.__nome\n",
    "    def __set_nome(self, nome):\n",
    "        self.__nome = nome\n",
    "    nome = property(__get_nome, __set_nome)\n",
    "\n",
    "    # Getters/setters do cpf do cliente\n",
    "    def __get_cpf(self):\n",
    "        return self.__cpf\n",
    "    def __set_cpf(self, cpf):\n",
    "        self.__cpf = cpf\n",
    "    cpf = property(__get_cpf, __set_cpf)\n",
    "\n",
    "   \n",
    "    # Getters/setters da quantidade de bicicletas que o cliente quer alugar\n",
    "    def __get_quantidade_bikes(self):\n",
    "        return self.__quantidade_bikes\n",
    "    def __set_quantidade_bikes(self, quantidade_bikes):\n",
    "        self.__quantidade_bikes= quantidade_bikes\n",
    "    quantidade_bikes = property(__get_quantidade_bikes, __set_quantidade_bikes)\n",
    "     \n",
    "\n",
    "\n",
    "    def consultarDisponibilidade(self, Loja): #servirá para ver as bicicletas disponíveis na Loja escolhida\n",
    "        return print(f\"A loja '{Loja.nome_loja}' têm {Loja.inventario} bicicleta(s) disponíveis.\")\n",
    "\n",
    "\n"
   ]
  },
  {
   "cell_type": "code",
   "execution_count": 168,
   "id": "d935701f",
   "metadata": {},
   "outputs": [
    {
     "name": "stdout",
     "output_type": "stream",
     "text": [
      "Inventario atualizado!\n",
      "\n",
      "Inventario atualizado!\n",
      "\n"
     ]
    }
   ],
   "source": [
    "loja1 = Loja(\"A bicicletaria\", 30)\n",
    "loja2 = Loja(\"Mais Bike\", 70)"
   ]
  },
  {
   "cell_type": "code",
   "execution_count": 169,
   "id": "c1380f54",
   "metadata": {},
   "outputs": [
    {
     "name": "stdout",
     "output_type": "stream",
     "text": [
      "Cliente instanciado com sucesso!\n",
      "Cliente instanciado com sucesso!\n",
      "Cliente instanciado com sucesso!\n"
     ]
    }
   ],
   "source": [
    "cliente1 = Cliente(\"Joao\", 23711122233, 1)\n",
    "cliente2 = Cliente(\"Maria\", 23722233344, 2)\n",
    "cliente3 = Cliente(\"Pedro\", 23788899977, 3)"
   ]
  },
  {
   "cell_type": "code",
   "execution_count": 170,
   "id": "48a874c3",
   "metadata": {},
   "outputs": [
    {
     "name": "stdout",
     "output_type": "stream",
     "text": [
      "O stock atual da loja 'Mais Bike' é de 70 bicicletas.\n"
     ]
    }
   ],
   "source": [
    "loja2.mostrarStock()"
   ]
  },
  {
   "cell_type": "code",
   "execution_count": 171,
   "id": "4204e8f2",
   "metadata": {},
   "outputs": [
    {
     "name": "stdout",
     "output_type": "stream",
     "text": [
      "Seja bem-vindo ao sistema de aluguel de bicicletas!\n",
      "\n",
      "\n",
      "Inventario atualizado!\n",
      "\n",
      "Você deseja alugar por hora (H), por dia (D), ou por semana(S)? s\n",
      "Por quantas semanas você irá alugar a bicicleta? 1\n",
      "Para o periodo de 1.0 s o custo do aluguel será de R$ 210.0.\n",
      "\n",
      "O aluguel inicia neste horário: 2022-02-20 18:39:32.928344.\n",
      "\n"
     ]
    }
   ],
   "source": [
    "loja2.alugar(cliente3)"
   ]
  },
  {
   "cell_type": "code",
   "execution_count": 172,
   "id": "24bae1d7",
   "metadata": {},
   "outputs": [
    {
     "name": "stdout",
     "output_type": "stream",
     "text": [
      "O stock atual da loja 'Mais Bike' é de 67 bicicletas.\n"
     ]
    }
   ],
   "source": [
    "loja2.mostrarStock()"
   ]
  },
  {
   "cell_type": "code",
   "execution_count": 173,
   "id": "82415a45",
   "metadata": {},
   "outputs": [
    {
     "name": "stdout",
     "output_type": "stream",
     "text": [
      "A loja 'Mais Bike' têm 67 bicicleta(s) disponíveis.\n"
     ]
    }
   ],
   "source": [
    "cliente2.consultarDisponibilidade(loja2)"
   ]
  },
  {
   "cell_type": "code",
   "execution_count": 174,
   "id": "aabaac25",
   "metadata": {},
   "outputs": [
    {
     "name": "stdout",
     "output_type": "stream",
     "text": [
      "Inventario atualizado!\n",
      "\n",
      "Horas de aluguel: 1 horas.\n",
      "O total da sua conta é R$ 10.5.\n",
      "Bicicleta devolvida com sucesso.\n",
      "A quantidade de bicicletas na loja 'Mais Bike' é de 70.\n",
      "\n"
     ]
    }
   ],
   "source": [
    "loja2.devolver(cliente3)"
   ]
  },
  {
   "cell_type": "code",
   "execution_count": 175,
   "id": "924f1cec",
   "metadata": {},
   "outputs": [
    {
     "name": "stdout",
     "output_type": "stream",
     "text": [
      "Cliente não tem bicicletas para devolver.\n"
     ]
    }
   ],
   "source": [
    "loja2.devolver(cliente3)"
   ]
  },
  {
   "cell_type": "code",
   "execution_count": null,
   "id": "56cb0e0a",
   "metadata": {},
   "outputs": [],
   "source": []
  }
 ],
 "metadata": {
  "kernelspec": {
   "display_name": "Python 3 (ipykernel)",
   "language": "python",
   "name": "python3"
  },
  "language_info": {
   "codemirror_mode": {
    "name": "ipython",
    "version": 3
   },
   "file_extension": ".py",
   "mimetype": "text/x-python",
   "name": "python",
   "nbconvert_exporter": "python",
   "pygments_lexer": "ipython3",
   "version": "3.9.7"
  }
 },
 "nbformat": 4,
 "nbformat_minor": 5
}
