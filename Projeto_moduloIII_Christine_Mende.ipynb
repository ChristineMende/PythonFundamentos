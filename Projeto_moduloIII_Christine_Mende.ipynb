{
 "cells": [
  {
   "cell_type": "code",
   "execution_count": 8,
   "id": "6b4f87cd",
   "metadata": {},
   "outputs": [],
   "source": [
    "#Projeto 3, por Christine Mende"
   ]
  },
  {
   "cell_type": "code",
   "execution_count": 89,
   "id": "796b3549",
   "metadata": {},
   "outputs": [],
   "source": [
    "mapa_1 =  [[1, 1, 1, 1],\n",
    "          [1, 0, 0, 0],\n",
    "          [1, 0, 0, 0],\n",
    "          [1, 0, 0, 1]]\n"
   ]
  },
  {
   "cell_type": "code",
   "execution_count": 90,
   "id": "cac95425",
   "metadata": {},
   "outputs": [],
   "source": [
    "#A resolução está baseada em listas:\n",
    "\n",
    "def Rios(mapa):                   #função que fará o cálculo dos rios no mapa que for entregado como parámetro\n",
    "    total_rios = []               #lista que irá conter a resposta com os rios e os seus tamanhos\n",
    "    filas = len(mapa)             #para conhecer o tamanho do nosso mapa, precisamos conhecer o número de filas \n",
    "    colunas = len(mapa[0])        # e o numero de colunas\n",
    "    mapa_validados = []\n",
    "    \n",
    "    #utilizamos um mapa 'espelho' que nos sinalizará se a localizaçao já foi validada/visitada (True), ou ainda não (False)\n",
    "    #para controlar que o acesso a cada ponto aconteça uma única vez\n",
    "    mapa_validados = [False] * filas\n",
    "    for i in range(filas):\n",
    "        mapa_validados[i] = [False] *colunas\n",
    "                 \n",
    "    #criamos uma função que irá visitar cada ponto. Se ele não foi visitado ainda (para isso temos o mapa_validados)\n",
    "    #executará a função 'Avaliar'. Se já foi visitado, não faz nada.  \n",
    "    for x in range(filas):\n",
    "        for y in range(colunas):\n",
    "            if mapa_validados[x][y] == True:\n",
    "                continue\n",
    "            Avaliar(x,y,mapa,mapa_validados,total_rios)\n",
    "    return total_rios              #a lista que se entrega como resposta \n",
    "\n",
    "def Avaliar(x, y, mapa, mapa_validados, total_rios):  #aqui faremos a validação de cada ponto\n",
    "    contador_tamanho = 0                              #contador do tamanho de cada rio encontrado\n",
    "    filas = len(mapa)              \n",
    "    colunas = len(mapa[0])        \n",
    "    pontos_avaliar = [[x,y]]                         #lista que irá manter os pontos (no formato de lista de dois elementos) que devem ser avaliados\n",
    "    while pontos_avaliar:                            #sempre que tivermos algúm ( >0) ponto para avaliar, entramos no while\n",
    "        ponto_avaliado = pontos_avaliar.pop()        #faremos uma avaliação, ponto por ponto. O ponto a avaliar será o último\n",
    "        x = ponto_avaliado[0]                        #x nos permite conhecer a fila na qual o meu ponto está localizado\n",
    "        y = ponto_avaliado[1]                        #y nos permite conhecer a coluna na qual o meu ponto está localizado\n",
    "        if mapa_validados[x][y]:                     #se o ponto foi visitado anteriormente (True) eu saio desse ponto\n",
    "            continue\n",
    "        mapa_validados[x][y] = True                  #vou colocar que foi visitado, porque está sendo validado\n",
    "        if mapa[x][y] == 0:                          #caso o ponto seja '0', também saio\n",
    "            continue\n",
    "        contador_tamanho += 1                        #vou fazendo a contagem para ter o tamanho do rio\n",
    "        \n",
    "        #estando em cada ponto, preciso olhar os adjacentes e incluir numa lista os que fazem parte do rio, para serem visitados \n",
    "        #depois, isto é, estará na lista de pontos_avaliar\n",
    "        adj_para_visitar = PontosAdjacentes(x, y, mapa, mapa_validados)\n",
    "        for ponto_novo in adj_para_visitar:\n",
    "            pontos_avaliar.append(ponto_novo)      \n",
    "            \n",
    "    if contador_tamanho > 0:                         #só quando tiver um contador_tamanho mayor que '0' significa que já tenho um rio. \n",
    "        total_rios.append(contador_tamanho)          #esse valor do contador só me interessa pegar depois de ter avaliado os pontos que compoem o rio, quer dizer, fora do 'while'\n",
    "        \n",
    "def PontosAdjacentes(x, y, mapa, mapa_validados):    #a função que olha para os pontos adjacentes\n",
    "    adj_para_visitar = []\n",
    "    filas = len(mapa)              \n",
    "    colunas = len(mapa[0])        \n",
    "    if x > 0 and mapa_validados[x-1][y] == False:     #olhando o ponto de cima: se não estou na borda e aquele ponto não foi avaliado ainda\n",
    "        adj_para_visitar.append([x-1,y])              #então eu aviso que preciso visitar o adjacente de cima\n",
    "    if x < (filas-1) and mapa_validados[x+1][y] == False: #olhando o ponto de baixo: se não estou na borda e aquele ponto não foi avaliado ainda\n",
    "        adj_para_visitar.append([x+1,y])               #então eu aviso que o adjacente de baixo precisa entrar na lista para ser visitado\n",
    "    if y > 0 and mapa_validados[x][y-1] == False:      #olhando o ponto da esquerda: se não estou na borda e aquele ponto não foi avaliado ainda\n",
    "        adj_para_visitar.append([x,y-1])               #aí aviso que o adjacente da esquerda precisa entrar na lista para ser visitado\n",
    "    if y < (colunas - 1) and mapa_validados[x][y+1] == False:   #olhando o ponto da direita: se não estou na borda e aquele ponto não tenha sido visitado ainda\n",
    "        adj_para_visitar.append([x,y+1])               #aí aviso que o adjacente da direita precisa entrar na lista para ser visitado\n",
    "    return adj_para_visitar                            #entregamos a lista dos que precisam ser visitados, o que depende do ponto onde estou\n",
    "    \n"
   ]
  },
  {
   "cell_type": "code",
   "execution_count": 91,
   "id": "b1809d66",
   "metadata": {},
   "outputs": [
    {
     "data": {
      "text/plain": [
       "[7, 1]"
      ]
     },
     "execution_count": 91,
     "metadata": {},
     "output_type": "execute_result"
    }
   ],
   "source": [
    "Rios(mapa_1)"
   ]
  },
  {
   "cell_type": "code",
   "execution_count": null,
   "id": "fc40807a",
   "metadata": {},
   "outputs": [],
   "source": []
  },
  {
   "cell_type": "code",
   "execution_count": null,
   "id": "b85f139d",
   "metadata": {},
   "outputs": [],
   "source": []
  }
 ],
 "metadata": {
  "kernelspec": {
   "display_name": "Python 3 (ipykernel)",
   "language": "python",
   "name": "python3"
  },
  "language_info": {
   "codemirror_mode": {
    "name": "ipython",
    "version": 3
   },
   "file_extension": ".py",
   "mimetype": "text/x-python",
   "name": "python",
   "nbconvert_exporter": "python",
   "pygments_lexer": "ipython3",
   "version": "3.9.7"
  }
 },
 "nbformat": 4,
 "nbformat_minor": 5
}
